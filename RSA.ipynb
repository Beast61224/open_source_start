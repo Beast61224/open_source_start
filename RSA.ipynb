{
 "cells": [
  {
   "cell_type": "code",
   "execution_count": 1,
   "metadata": {},
   "outputs": [
    {
     "name": "stdout",
     "output_type": "stream",
     "text": [
      "Enter p (should be a prime number):3\n",
      "Enter q (should be a prime number):11\n",
      "Enter e:7\n",
      "Enter plaintext:17\n",
      "\n",
      "Phi(33) is:20\n",
      "Signature s is: 8\n"
     ]
    }
   ],
   "source": [
    "import sympy,math,random\n",
    "\n",
    "p=int(input(\"Enter p (should be a prime number):\"))\n",
    "q=int(input(\"Enter q (should be a prime number):\"))\n",
    "b=int(input(\"Enter e:\"))\n",
    "plaintext=int(input(\"Enter plaintext:\"))\n",
    "\n",
    "n=p*q\n",
    "\n",
    "print()\n",
    "\n",
    "print(\"p is:\",p)\n",
    "print(\"q is:\",q)\n",
    "print(\"n is:\",n)\n",
    "\n",
    "def eulers_totient():\n",
    "    phi_n=0\n",
    "    if(sympy.isprime(p) and sympy.isprime(q)):\n",
    "        phi_n=(p-1)*(q-1)\n",
    "    \n",
    "    else:\n",
    "        print(\"p and q should be prime numbers \")\n",
    "        \n",
    "    return phi_n\n",
    "\n",
    "a=eulers_totient()\n",
    "print(\"Phi(\"+str(n)+\") is:\"+str(a))\n",
    "\n",
    "# def get_e():\n",
    "#     list_e=[]\n",
    "#     a=eulers_totient()\n",
    "#     for i in range(1,a):\n",
    "#         if(math.gcd(i,a)==1):\n",
    "#             list_e.append(i)\n",
    "        \n",
    "#     e=random.choice(list_e)\n",
    "#     return e\n",
    "# b=get_e()\n",
    "print(\"e is:\",b)\n",
    "\n",
    "public_key=(b,n)\n",
    "\n",
    "\n",
    "def mul_inverse(b,a) : \n",
    "    b=b%a \n",
    "    for inv_e in range(1,a) : \n",
    "        if((b*inv_e)%a==1) : \n",
    "            return inv_e \n",
    "            break\n",
    "\n",
    "d=mul_inverse(b,a)\n",
    "private_key=(d,n)\n",
    "print(\"d is:\",d)\n",
    "\n",
    "print(\"Public key is:\",public_key)\n",
    "print(\"Private key is:\",private_key)\n",
    "\n",
    "def cipher_text():\n",
    "    if(plaintext<n):\n",
    "        c=pow(plaintext,b)%n\n",
    "    return c\n",
    "c=cipher_text()\n",
    "print(\"Cipher text is:\",c)\n",
    "b=b%a\n",
    "def plain_text():\n",
    "    if(d!=None):\n",
    "        plaintext=pow(c,d)%n\n",
    "        return plaintext\n",
    "\n",
    "ptext=plain_text()\n",
    "print(\"Plain text is:\",ptext)"
   ]
  },
  {
   "cell_type": "code",
   "execution_count": null,
   "metadata": {},
   "outputs": [],
   "source": []
  },
  {
   "cell_type": "code",
   "execution_count": null,
   "metadata": {},
   "outputs": [],
   "source": []
  }
 ],
 "metadata": {
  "kernelspec": {
   "display_name": "Python 3",
   "language": "python",
   "name": "python3"
  },
  "language_info": {
   "codemirror_mode": {
    "name": "ipython",
    "version": 3
   },
   "file_extension": ".py",
   "mimetype": "text/x-python",
   "name": "python",
   "nbconvert_exporter": "python",
   "pygments_lexer": "ipython3",
   "version": "3.8.3"
  }
 },
 "nbformat": 4,
 "nbformat_minor": 2
}
