{
 "cells": [
  {
   "cell_type": "code",
   "execution_count": 1,
   "metadata": {},
   "outputs": [
    {
     "name": "stdout",
     "output_type": "stream",
     "text": [
      "enter plain text cryptographyisaneasysubject\n",
      "enter first key 7\n",
      "enter second key 1\n",
      "PQNCEVRQBCYNFXBODBXNXLIMDPE"
     ]
    }
   ],
   "source": [
    "plt=input(\"enter plain text \")\n",
    "k1=int(input(\"enter first key \"))                       #Encryption\n",
    "k2=int(input(\"enter second key \"))\n",
    "for i in range(len(plt)):\n",
    "    char=plt[i]\n",
    "    v=(((ord(char)-97)*k1)+k2)%26\n",
    "    cipher=v+65\n",
    "\n",
    "\n",
    "    print(chr(cipher),end=\"\")"
   ]
  },
  {
   "cell_type": "code",
   "execution_count": 3,
   "metadata": {},
   "outputs": [
    {
     "name": "stdout",
     "output_type": "stream",
     "text": [
      "enter cipher text pqncevrqbcynfxbodbxnxlimdpe\n",
      "enter first key 7\n",
      "enter second key 1\n",
      "ilcvbaolsvjcegsfysgcgwnzyib"
     ]
    }
   ],
   "source": [
    "plt=input(\"enter cipher text \")\n",
    "k1=int(input(\"enter first key \"))\n",
    "k2=int(input(\"enter second key \"))                    #Decryption\n",
    "b=26\n",
    "r1=k1\n",
    "r2=b\n",
    "t1=0\n",
    "t2=1\n",
    "while(r2>0):\n",
    "    q=r1//r2\n",
    "    r=r1%r2\n",
    "    r1=r2\n",
    "    r2=r\n",
    "    t=t1-(t2*q)\n",
    "    t1=t2\n",
    "    t2=t\n",
    "if(r1==1):\n",
    "    if(t1<0):\n",
    "        inv=t1+26\n",
    "        \n",
    "    else:\n",
    "        inv=t1\n",
    "\n",
    "for i in range(len(plt)):\n",
    "    char=plt[i]\n",
    "    v=(((ord(char)-65)-k2)*inv)%26\n",
    "    cipher=v+97\n",
    "\n",
    "\n",
    "    print(chr(cipher),end=\"\")\n",
    "        "
   ]
  },
  {
   "cell_type": "code",
   "execution_count": 1,
   "metadata": {},
   "outputs": [
    {
     "name": "stdout",
     "output_type": "stream",
     "text": [
      "Enter cipher text pqncevrqbcynfxbodbxnxlimdpe\n",
      "Enter first key 7\n",
      "Enter second key 1\n",
      "cryptographyisaneasysubject\n"
     ]
    }
   ],
   "source": [
    "from string import ascii_lowercase\n",
    "from math import gcd\n",
    "\n",
    "lower = ascii_lowercase\n",
    "\n",
    "ciphered_text=input(\"Enter cipher text \")\n",
    "a=int(input(\"Enter first key \"))\n",
    "b=int(input(\"Enter second key \"))\n",
    "m=26\n",
    "if gcd(a, 26) != 1:\n",
    "    raise ValueError('a and 26 are not coprime. Please try again.')\n",
    "\n",
    "msg = ''.join(x for x in ciphered_text if x.isalnum())\n",
    "out = ''\n",
    "n = 1\n",
    "count = 1\n",
    "\n",
    "while True:\n",
    "    if a * n > m * count:\n",
    "        if a * n == (m * count) + 1:\n",
    "            break\n",
    "        count += 1\n",
    "    n += 1\n",
    "\n",
    "for char in msg:\n",
    "    if char.isalpha():\n",
    "        d = int((n * (lower.index(char) - b)) % m)\n",
    "        out += lower[d]\n",
    "\n",
    "    else:\n",
    "        out += char\n",
    "print(out)"
   ]
  }
 ],
 "metadata": {
  "kernelspec": {
   "display_name": "Python 3",
   "language": "python",
   "name": "python3"
  },
  "language_info": {
   "codemirror_mode": {
    "name": "ipython",
    "version": 3
   },
   "file_extension": ".py",
   "mimetype": "text/x-python",
   "name": "python",
   "nbconvert_exporter": "python",
   "pygments_lexer": "ipython3",
   "version": "3.7.3"
  }
 },
 "nbformat": 4,
 "nbformat_minor": 2
}
